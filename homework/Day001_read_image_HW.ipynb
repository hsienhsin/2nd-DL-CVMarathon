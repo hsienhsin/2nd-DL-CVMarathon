{
 "cells": [
  {
   "cell_type": "markdown",
   "metadata": {},
   "source": [
    "# 作業\n",
    "\n",
    "思考一下我們前面有提到圖片是矩陣，但維度可能會不一樣\n",
    "例如灰階圖只有兩個維度，RGB 彩圖則有 3 個維度\n",
    "\n",
    "假如今天我們把 RGB 3 個維度拆開來看會有甚麼不同的效果呢？"
   ]
  },
  {
   "cell_type": "code",
   "execution_count": 14,
   "metadata": {},
   "outputs": [
    {
     "name": "stdout",
     "output_type": "stream",
     "text": [
      "[[125 125 133 ..., 122 110  90]\n",
      " [125 125 133 ..., 122 110  90]\n",
      " [125 125 133 ..., 122 110  90]\n",
      " ..., \n",
      " [ 60  60  58 ...,  84  76  79]\n",
      " [ 57  57  62 ...,  79  81  81]\n",
      " [ 57  57  62 ...,  79  81  81]]\n",
      "[[0 0 0 ..., 0 0 0]\n",
      " [0 0 0 ..., 0 0 0]\n",
      " [0 0 0 ..., 0 0 0]\n",
      " ..., \n",
      " [0 0 0 ..., 0 0 0]\n",
      " [0 0 0 ..., 0 0 0]\n",
      " [0 0 0 ..., 0 0 0]]\n"
     ]
    }
   ],
   "source": [
    "import cv2\n",
    "import numpy as np\n",
    "\n",
    "img_path = 'lena.png'\n",
    "\n",
    "# 以彩色圖片的方式載入\n",
    "img = cv2.imread(img_path, cv2.IMREAD_COLOR)\n",
    "\n",
    "#將圖片拆分成BGR。\n",
    "b, g, r = cv2.split(img)\n",
    "\n",
    "blank = np.zeros_like(b)\n",
    "\n",
    "\n",
    "img_b = cv2.merge([b, blank, blank])\n",
    "\n",
    "img_g = cv2.merge([blank, g, blank])\n",
    "\n",
    "img_r = cv2.merge([blank, blank, r])\n",
    "\n",
    "\n",
    "# 以灰階圖片的方式載入\n",
    "img_gray = cv2.imread(img_path, cv2.IMREAD_GRAYSCALE)\n",
    "\n",
    "\n",
    "# 為了要不斷顯示圖片，所以使用一個迴圈\n",
    "while True:\n",
    "    # 顯示彩圖\n",
    "    #cv2.imshow('bgr', img)\n",
    "    # 顯示灰圖\n",
    "    #cv2.imshow('gray', img_gray)\n",
    "    \n",
    "    cv2.imshow('b', img_b)\n",
    "    \n",
    "        \n",
    "    cv2.imshow('g', img_g)\n",
    "    \n",
    "    cv2.imshow('r', img_r)\n",
    "    \n",
    "   \n",
    "    # 直到按下 ESC 鍵才會自動關閉視窗結束程式\n",
    "    k = cv2.waitKey(0)\n",
    "    if k == 27:\n",
    "        cv2.destroyAllWindows()\n",
    "        break"
   ]
  },
  {
   "cell_type": "code",
   "execution_count": null,
   "metadata": {},
   "outputs": [],
   "source": []
  }
 ],
 "metadata": {
  "kernelspec": {
   "display_name": "Python 3",
   "language": "python",
   "name": "python3"
  },
  "language_info": {
   "codemirror_mode": {
    "name": "ipython",
    "version": 3
   },
   "file_extension": ".py",
   "mimetype": "text/x-python",
   "name": "python",
   "nbconvert_exporter": "python",
   "pygments_lexer": "ipython3",
   "version": "3.6.9"
  }
 },
 "nbformat": 4,
 "nbformat_minor": 2
}
